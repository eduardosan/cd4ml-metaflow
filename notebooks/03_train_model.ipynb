{
 "cells": [
  {
   "cell_type": "markdown",
   "id": "d1c710c4-c9a3-4331-8369-1cb55ae3ea27",
   "metadata": {},
   "source": [
    "# Training step\n",
    "\n",
    "Now that we have all the basic features, let's generated a simple model for topic modelling in order to discover what are these news about. For this experiment we will use the Topic Modeling with LDA, a simple clustering model that will help us investigating calssification features about data. This implementation is available at Gensim library. "
   ]
  },
  {
   "cell_type": "markdown",
   "id": "6228c81b-62f8-40d9-a353-d5972213626b",
   "metadata": {},
   "source": [
    "## Project setup"
   ]
  },
  {
   "cell_type": "code",
   "execution_count": 1,
   "id": "a249b63e-7daf-4f57-8af6-7fed7fbd3a80",
   "metadata": {},
   "outputs": [],
   "source": [
    "import sys\n",
    "import os\n",
    "\n",
    "sys.path.append('../')\n",
    "os.chdir(\"../\")"
   ]
  },
  {
   "cell_type": "code",
   "execution_count": 2,
   "id": "c50ed187-67d2-4cdb-b778-456d27049201",
   "metadata": {},
   "outputs": [],
   "source": [
    "os.environ['DATA_DIR'] = os.path.join(os.path.abspath(\"./\"), './data')"
   ]
  },
  {
   "cell_type": "code",
   "execution_count": 3,
   "id": "b425b7b0-1e06-492e-b4f8-bc94837bea49",
   "metadata": {},
   "outputs": [
    {
     "name": "stdout",
     "output_type": "stream",
     "text": [
      "--2022-12-01 15:10:36--  https://install.python-poetry.org/\n",
      "Resolving install.python-poetry.org (install.python-poetry.org)... 76.76.21.98, 76.76.21.123\n",
      "Connecting to install.python-poetry.org (install.python-poetry.org)|76.76.21.98|:443... connected.\n",
      "HTTP request sent, awaiting response... 200 OK\n",
      "Length: 28457 (28K) [text/plain]\n",
      "Saving to: ‘STDOUT’\n",
      "\n",
      "-                   100%[===================>]  27.79K  --.-KB/s    in 0.001s  \n",
      "\n",
      "2022-12-01 15:10:36 (22.4 MB/s) - written to stdout [28457/28457]\n",
      "\n",
      "\u001b[36mRetrieving Poetry metadata\u001b[0m\n",
      "\n",
      "The latest version (\u001b[1m1.2.2\u001b[0m) is already installed.\n"
     ]
    }
   ],
   "source": [
    "!wget -O - https://install.python-poetry.org | python3 -"
   ]
  },
  {
   "cell_type": "code",
   "execution_count": 4,
   "id": "b2f867ef-661b-4a2d-8500-cd7107769e65",
   "metadata": {},
   "outputs": [],
   "source": [
    "import os\n",
    "\n",
    "os.environ['PATH'] = f\"{os.environ['PATH']}:/home/jovyan/.local/bin\""
   ]
  },
  {
   "cell_type": "code",
   "execution_count": 5,
   "id": "432ac9c5-c636-4032-b8b8-08e1d42a6404",
   "metadata": {},
   "outputs": [],
   "source": [
    "!poetry env use system\n",
    "!poetry env remove --all\n",
    "!poetry config virtualenvs.create false"
   ]
  },
  {
   "cell_type": "markdown",
   "id": "d25ce9f5-2302-48ba-b69a-f0208f9eb969",
   "metadata": {},
   "source": [
    "### Install dependencies"
   ]
  },
  {
   "cell_type": "code",
   "execution_count": 6,
   "id": "2b41bbbd-dfd4-4b4d-b557-0e87afbd505a",
   "metadata": {},
   "outputs": [
    {
     "name": "stdout",
     "output_type": "stream",
     "text": [
      "\u001b[30;43mSkipping virtualenv creation, as specified in config file.\u001b[39;49m\n",
      "\u001b[34mInstalling dependencies from lock file\u001b[39m\n",
      "\n",
      "No dependencies to install or update\n"
     ]
    }
   ],
   "source": [
    "!poetry install --no-cache -n"
   ]
  },
  {
   "cell_type": "markdown",
   "id": "23f6de89-83a4-4be9-baad-8dd4d30c4fcf",
   "metadata": {},
   "source": [
    "### Project structure\n",
    "\n",
    "As we are still following recommended [Data Science cookiecutter template](https://drivendata.github.io/cookiecutter-data-science/), the training step will be on `src/models` folder."
   ]
  },
  {
   "cell_type": "code",
   "execution_count": 11,
   "id": "dba9b127-748b-4ed5-bdf5-ea1420ed2d29",
   "metadata": {},
   "outputs": [],
   "source": [
    "!mkdir -p src/models\n",
    "!touch src/models/__init__.py"
   ]
  },
  {
   "cell_type": "markdown",
   "id": "0fc674b1-b485-4252-b18e-469a4f0dc68f",
   "metadata": {},
   "source": [
    "## Feature load step\n",
    "\n",
    "Considering models composition strategy discussion on previous notebooks, we are going to use artifacts provided by `FeatureBuildFlow` in order to load results. In order to keep track of features and experiments, loading step will ned to know which version of the artifacts to load, so version tag will be used as input for this training step. \n",
    "\n",
    "**P.S.**: it is mandatory that training and feature building step use the same tag. So training will fail if there is no feature build step with the same tag."
   ]
  },
  {
   "cell_type": "code",
   "execution_count": 36,
   "id": "9d52a00b-e779-4ef7-b710-a731c44ebc2f",
   "metadata": {},
   "outputs": [
    {
     "name": "stdout",
     "output_type": "stream",
     "text": [
      "Overwriting src/models/train_model.py\n"
     ]
    }
   ],
   "source": [
    "%%writefile src/models/train_model.py\n",
    "import os\n",
    "import pandas as pd\n",
    "\n",
    "from metaflow import FlowSpec, Parameter, step, Flow, current\n",
    "\n",
    "class TrainModelFlow(FlowSpec):\n",
    "    \n",
    "    @step\n",
    "    def start(self):\n",
    "        version = list(current.tags)[0]\n",
    "        print(f\"Loading features from version {version}\")\n",
    "        fl = Flow('FeatureBuildFlow')\n",
    "        r = list(fl.runs(version))[0]\n",
    "        self.results = r.data.results\n",
    "        self.next(self.end)\n",
    "        \n",
    "    @step\n",
    "    def end(self):\n",
    "        print(\"Done!\")\n",
    "        \n",
    "\n",
    "if __name__ == '__main__':\n",
    "    TrainModelFlow()"
   ]
  },
  {
   "cell_type": "code",
   "execution_count": 37,
   "id": "3379d8ae-f76e-4e86-91e6-06c6c7db8499",
   "metadata": {},
   "outputs": [
    {
     "name": "stdout",
     "output_type": "stream",
     "text": [
      "\u001b[35m\u001b[1mMetaflow 2.7.14\u001b[0m\u001b[35m\u001b[22m executing \u001b[0m\u001b[31m\u001b[1mTrainModelFlow\u001b[0m\u001b[35m\u001b[22m\u001b[0m\u001b[35m\u001b[22m for \u001b[0m\u001b[31m\u001b[1muser:jovyan\u001b[0m\u001b[35m\u001b[22m\u001b[K\u001b[0m\u001b[35m\u001b[22m\u001b[0m\n",
      "\u001b[35m\u001b[22mValidating your flow...\u001b[K\u001b[0m\u001b[35m\u001b[22m\u001b[0m\n",
      "\u001b[32m\u001b[1m    The graph looks good!\u001b[K\u001b[0m\u001b[32m\u001b[1m\u001b[0m\n",
      "\u001b[35m\u001b[22mRunning pylint...\u001b[K\u001b[0m\u001b[35m\u001b[22m\u001b[0m\n",
      "\u001b[32m\u001b[1m    Pylint is happy!\u001b[K\u001b[0m\u001b[32m\u001b[1m\u001b[0m\n",
      "\u001b[35m2022-12-01 16:00:18.164 \u001b[0m\u001b[1mWorkflow starting (run-id 1669921218093386):\u001b[0m\n",
      "\u001b[35m2022-12-01 16:00:18.190 \u001b[0m\u001b[32m[1669921218093386/start/1 (pid 3007)] \u001b[0m\u001b[1mTask is starting.\u001b[0m\n",
      "\u001b[35m2022-12-01 16:00:18.608 \u001b[0m\u001b[32m[1669921218093386/start/1 (pid 3007)] \u001b[0m\u001b[22mLoading features from version 0.0.1\u001b[0m\n",
      "\u001b[35m2022-12-01 16:00:18.799 \u001b[0m\u001b[32m[1669921218093386/start/1 (pid 3007)] \u001b[0m\u001b[1mTask finished successfully.\u001b[0m\n",
      "\u001b[35m2022-12-01 16:00:18.834 \u001b[0m\u001b[32m[1669921218093386/end/2 (pid 3017)] \u001b[0m\u001b[1mTask is starting.\u001b[0m\n",
      "\u001b[35m2022-12-01 16:00:19.246 \u001b[0m\u001b[32m[1669921218093386/end/2 (pid 3017)] \u001b[0m\u001b[22mDone!\u001b[0m\n",
      "\u001b[35m2022-12-01 16:00:19.387 \u001b[0m\u001b[32m[1669921218093386/end/2 (pid 3017)] \u001b[0m\u001b[1mTask finished successfully.\u001b[0m\n",
      "\u001b[35m2022-12-01 16:00:19.394 \u001b[0m\u001b[1mDone!\u001b[0m\n",
      "\u001b[0m"
     ]
    }
   ],
   "source": [
    "!python src/models/train_model.py run --tag 0.0.1"
   ]
  },
  {
   "cell_type": "code",
   "execution_count": 38,
   "id": "99aee670-69bb-4af6-a538-88a1d7203ace",
   "metadata": {},
   "outputs": [
    {
     "data": {
      "text/html": [
       "<div>\n",
       "<style scoped>\n",
       "    .dataframe tbody tr th:only-of-type {\n",
       "        vertical-align: middle;\n",
       "    }\n",
       "\n",
       "    .dataframe tbody tr th {\n",
       "        vertical-align: top;\n",
       "    }\n",
       "\n",
       "    .dataframe thead th {\n",
       "        text-align: right;\n",
       "    }\n",
       "</style>\n",
       "<table border=\"1\" class=\"dataframe\">\n",
       "  <thead>\n",
       "    <tr style=\"text-align: right;\">\n",
       "      <th></th>\n",
       "      <th>TITLE</th>\n",
       "      <th>CONTENT</th>\n",
       "      <th>LINK</th>\n",
       "      <th>PUBLISHED</th>\n",
       "      <th>PUBLISHED_DATE</th>\n",
       "      <th>token_set</th>\n",
       "    </tr>\n",
       "  </thead>\n",
       "  <tbody>\n",
       "    <tr>\n",
       "      <th>0</th>\n",
       "      <td>Com surto na região Norte, campanha contra o s...</td>\n",
       "      <td>&lt;img src=\"https://s2.glbimg.com/HA6WyXj_0FWazn...</td>\n",
       "      <td>https://g1.globo.com/ap/amapa/noticia/2018/07/...</td>\n",
       "      <td>2018-07-23T22:40:12+00:00</td>\n",
       "      <td>2018-07-23</td>\n",
       "      <td>[vacinação, voltada, público, infantil, aconte...</td>\n",
       "    </tr>\n",
       "    <tr>\n",
       "      <th>1</th>\n",
       "      <td>Polícia Civil de Juiz de Fora recebe denúncia ...</td>\n",
       "      <td>Duas firmas são de São Paulo e uma de Belo Hor...</td>\n",
       "      <td>https://g1.globo.com/mg/zona-da-mata/noticia/2...</td>\n",
       "      <td>2018-07-23T21:01:26+00:00</td>\n",
       "      <td>2018-07-23</td>\n",
       "      <td>[duas, firmas, paulo, belo, horizonte, agora, ...</td>\n",
       "    </tr>\n",
       "    <tr>\n",
       "      <th>2</th>\n",
       "      <td>Segunda edição do ‘Encontro de Bateristas do T...</td>\n",
       "      <td>&lt;img src=\"https://s2.glbimg.com/ygBGnNNFsGwUPA...</td>\n",
       "      <td>https://g1.globo.com/mg/triangulo-mineiro/noti...</td>\n",
       "      <td>2018-07-23T20:45:48+00:00</td>\n",
       "      <td>2018-07-23</td>\n",
       "      <td>[170, bateristas, esperados, evento, pode, tor...</td>\n",
       "    </tr>\n",
       "    <tr>\n",
       "      <th>3</th>\n",
       "      <td>Comissariado do AP fiscaliza embarque de menor...</td>\n",
       "      <td>&lt;img src=\"https://s2.glbimg.com/3ywfLG3crqb2_I...</td>\n",
       "      <td>https://g1.globo.com/ap/amapa/noticia/2018/07/...</td>\n",
       "      <td>2018-07-23T20:36:37+00:00</td>\n",
       "      <td>2018-07-23</td>\n",
       "      <td>[fluxo, passageiros, aumenta, principais, port...</td>\n",
       "    </tr>\n",
       "    <tr>\n",
       "      <th>4</th>\n",
       "      <td>Ceará tem 66 municípios com emergência reconhe...</td>\n",
       "      <td>&lt;img src=\"https://s2.glbimg.com/aktFEMxx84AuWQ...</td>\n",
       "      <td>https://g1.globo.com/ce/ceara/noticia/2018/07/...</td>\n",
       "      <td>2018-07-23T20:13:49+00:00</td>\n",
       "      <td>2018-07-23</td>\n",
       "      <td>[nesta, segunda-feira, reconhecimento, municíp...</td>\n",
       "    </tr>\n",
       "    <tr>\n",
       "      <th>...</th>\n",
       "      <td>...</td>\n",
       "      <td>...</td>\n",
       "      <td>...</td>\n",
       "      <td>...</td>\n",
       "      <td>...</td>\n",
       "      <td>...</td>\n",
       "    </tr>\n",
       "    <tr>\n",
       "      <th>175</th>\n",
       "      <td>Por que a esquadria de alumínio se tornou um d...</td>\n",
       "      <td>&lt;img src=\"https://s2.glbimg.com/k5A5kFIGvVX5Ib...</td>\n",
       "      <td>https://g1.globo.com/ba/bahia/especial-publici...</td>\n",
       "      <td>2022-11-28T18:40:41+00:00</td>\n",
       "      <td>2022-11-28</td>\n",
       "      <td>[aliando, versatilidade, design, resistência, ...</td>\n",
       "    </tr>\n",
       "    <tr>\n",
       "      <th>176</th>\n",
       "      <td>Perfil da PM em SC curte posts antidemocrático...</td>\n",
       "      <td>&lt;img src=\"https://s2.glbimg.com/hHaPhjo7AiNLn-...</td>\n",
       "      <td>https://g1.globo.com/sc/santa-catarina/noticia...</td>\n",
       "      <td>2022-11-28T18:39:29+00:00</td>\n",
       "      <td>2022-11-28</td>\n",
       "      <td>[polícia, militar, rodoviária, instaurou, proc...</td>\n",
       "    </tr>\n",
       "    <tr>\n",
       "      <th>177</th>\n",
       "      <td>Ponte que liga Toca da Onça a Rio Bonito é rec...</td>\n",
       "      <td>&lt;img src=\"https://s2.glbimg.com/iA1ARsUvBzuFOH...</td>\n",
       "      <td>https://g1.globo.com/rj/regiao-serrana/noticia...</td>\n",
       "      <td>2022-11-28T18:39:25+00:00</td>\n",
       "      <td>2022-11-28</td>\n",
       "      <td>[ponte, existia, local, levada, força, água, r...</td>\n",
       "    </tr>\n",
       "    <tr>\n",
       "      <th>178</th>\n",
       "      <td>Menina denuncia estupro à professora e ex-padr...</td>\n",
       "      <td>&lt;img src=\"https://s2.glbimg.com/DsJJ0ftZ_UF0g9...</td>\n",
       "      <td>https://g1.globo.com/go/goias/noticia/2022/11/...</td>\n",
       "      <td>2022-11-28T18:38:07+00:00</td>\n",
       "      <td>2022-11-28</td>\n",
       "      <td>[garota, anos, disse, abusada, desde, anos, se...</td>\n",
       "    </tr>\n",
       "    <tr>\n",
       "      <th>179</th>\n",
       "      <td>Treinador é preso no meio de partida de handeb...</td>\n",
       "      <td>&lt;img src=\"https://s2.glbimg.com/lGTqe75_EueDyo...</td>\n",
       "      <td>https://g1.globo.com/sc/santa-catarina/noticia...</td>\n",
       "      <td>2022-11-28T18:36:53+00:00</td>\n",
       "      <td>2022-11-28</td>\n",
       "      <td>[polícia, identificou, menos, vítimas, garotos...</td>\n",
       "    </tr>\n",
       "  </tbody>\n",
       "</table>\n",
       "<p>180 rows × 6 columns</p>\n",
       "</div>"
      ],
      "text/plain": [
       "                                                 TITLE  \\\n",
       "0    Com surto na região Norte, campanha contra o s...   \n",
       "1    Polícia Civil de Juiz de Fora recebe denúncia ...   \n",
       "2    Segunda edição do ‘Encontro de Bateristas do T...   \n",
       "3    Comissariado do AP fiscaliza embarque de menor...   \n",
       "4    Ceará tem 66 municípios com emergência reconhe...   \n",
       "..                                                 ...   \n",
       "175  Por que a esquadria de alumínio se tornou um d...   \n",
       "176  Perfil da PM em SC curte posts antidemocrático...   \n",
       "177  Ponte que liga Toca da Onça a Rio Bonito é rec...   \n",
       "178  Menina denuncia estupro à professora e ex-padr...   \n",
       "179  Treinador é preso no meio de partida de handeb...   \n",
       "\n",
       "                                               CONTENT  \\\n",
       "0    <img src=\"https://s2.glbimg.com/HA6WyXj_0FWazn...   \n",
       "1    Duas firmas são de São Paulo e uma de Belo Hor...   \n",
       "2    <img src=\"https://s2.glbimg.com/ygBGnNNFsGwUPA...   \n",
       "3    <img src=\"https://s2.glbimg.com/3ywfLG3crqb2_I...   \n",
       "4    <img src=\"https://s2.glbimg.com/aktFEMxx84AuWQ...   \n",
       "..                                                 ...   \n",
       "175  <img src=\"https://s2.glbimg.com/k5A5kFIGvVX5Ib...   \n",
       "176  <img src=\"https://s2.glbimg.com/hHaPhjo7AiNLn-...   \n",
       "177  <img src=\"https://s2.glbimg.com/iA1ARsUvBzuFOH...   \n",
       "178  <img src=\"https://s2.glbimg.com/DsJJ0ftZ_UF0g9...   \n",
       "179  <img src=\"https://s2.glbimg.com/lGTqe75_EueDyo...   \n",
       "\n",
       "                                                  LINK  \\\n",
       "0    https://g1.globo.com/ap/amapa/noticia/2018/07/...   \n",
       "1    https://g1.globo.com/mg/zona-da-mata/noticia/2...   \n",
       "2    https://g1.globo.com/mg/triangulo-mineiro/noti...   \n",
       "3    https://g1.globo.com/ap/amapa/noticia/2018/07/...   \n",
       "4    https://g1.globo.com/ce/ceara/noticia/2018/07/...   \n",
       "..                                                 ...   \n",
       "175  https://g1.globo.com/ba/bahia/especial-publici...   \n",
       "176  https://g1.globo.com/sc/santa-catarina/noticia...   \n",
       "177  https://g1.globo.com/rj/regiao-serrana/noticia...   \n",
       "178  https://g1.globo.com/go/goias/noticia/2022/11/...   \n",
       "179  https://g1.globo.com/sc/santa-catarina/noticia...   \n",
       "\n",
       "                     PUBLISHED PUBLISHED_DATE  \\\n",
       "0    2018-07-23T22:40:12+00:00     2018-07-23   \n",
       "1    2018-07-23T21:01:26+00:00     2018-07-23   \n",
       "2    2018-07-23T20:45:48+00:00     2018-07-23   \n",
       "3    2018-07-23T20:36:37+00:00     2018-07-23   \n",
       "4    2018-07-23T20:13:49+00:00     2018-07-23   \n",
       "..                         ...            ...   \n",
       "175  2022-11-28T18:40:41+00:00     2022-11-28   \n",
       "176  2022-11-28T18:39:29+00:00     2022-11-28   \n",
       "177  2022-11-28T18:39:25+00:00     2022-11-28   \n",
       "178  2022-11-28T18:38:07+00:00     2022-11-28   \n",
       "179  2022-11-28T18:36:53+00:00     2022-11-28   \n",
       "\n",
       "                                             token_set  \n",
       "0    [vacinação, voltada, público, infantil, aconte...  \n",
       "1    [duas, firmas, paulo, belo, horizonte, agora, ...  \n",
       "2    [170, bateristas, esperados, evento, pode, tor...  \n",
       "3    [fluxo, passageiros, aumenta, principais, port...  \n",
       "4    [nesta, segunda-feira, reconhecimento, municíp...  \n",
       "..                                                 ...  \n",
       "175  [aliando, versatilidade, design, resistência, ...  \n",
       "176  [polícia, militar, rodoviária, instaurou, proc...  \n",
       "177  [ponte, existia, local, levada, força, água, r...  \n",
       "178  [garota, anos, disse, abusada, desde, anos, se...  \n",
       "179  [polícia, identificou, menos, vítimas, garotos...  \n",
       "\n",
       "[180 rows x 6 columns]"
      ]
     },
     "execution_count": 38,
     "metadata": {},
     "output_type": "execute_result"
    }
   ],
   "source": [
    "from metaflow import Flow\n",
    "fl = Flow('TrainModelFlow')\n",
    "r = fl.latest_run\n",
    "df_r = r.data.results\n",
    "df_r"
   ]
  },
  {
   "cell_type": "markdown",
   "id": "4b2c184a-f5e2-4509-b9ae-ee6521d6bfc5",
   "metadata": {},
   "source": [
    "## Training step"
   ]
  },
  {
   "cell_type": "code",
   "execution_count": 16,
   "id": "d53b5548-4a41-4397-9b9c-25053d098fd3",
   "metadata": {},
   "outputs": [
    {
     "name": "stdout",
     "output_type": "stream",
     "text": [
      "\u001b[30;43mSkipping virtualenv creation, as specified in config file.\u001b[39;49m\n",
      "\u001b[33mDEPRECATION: --no-binary currently disables reading from the cache of locally built wheels. In the future --no-binary will not influence the wheel cache. pip 23.1 will enforce this behaviour change. A possible replacement is to use the --no-cache-dir option. You can use the flag --use-feature=no-binary-enable-wheel-cache to test the upcoming behaviour. Discussion can be found at https://github.com/pypa/pip/issues/11453\u001b[0m\u001b[33m\n",
      "\u001b[0mRequirement already satisfied: gensim in /opt/conda/lib/python3.10/site-packages (4.2.0)\n"
     ]
    }
   ],
   "source": [
    "# FIXME: there is an install deprecation notice on gensim that prevents us using poetry to install it: https://github.com/RaRe-Technologies/gensim/issues/3362\n",
    "\n",
    "!poetry run python -m pip install gensim --disable-pip-version-check --no-deps --no-cache-dir --no-binary gensim"
   ]
  },
  {
   "cell_type": "code",
   "execution_count": 17,
   "id": "a1579ca3-813b-4c13-84c0-1dd255b92a1c",
   "metadata": {},
   "outputs": [
    {
     "name": "stdout",
     "output_type": "stream",
     "text": [
      "\u001b[30;43mSkipping virtualenv creation, as specified in config file.\u001b[39;49m\n",
      "The following packages are already present in the pyproject.toml and will be skipped:\n",
      "\n",
      "  • \u001b[36mgensim\u001b[39m\n",
      "\n",
      "If you want to update it to the latest compatible version, you can use `poetry update package`.\n",
      "If you prefer to upgrade it to the latest available version, you can use `poetry add package@latest`.\n",
      "\n",
      "Nothing to add.\n"
     ]
    }
   ],
   "source": [
    "!poetry add gensim"
   ]
  },
  {
   "cell_type": "code",
   "execution_count": 52,
   "id": "6e34b5a5-7c37-4745-8a4e-5ca8344813e8",
   "metadata": {},
   "outputs": [
    {
     "name": "stdout",
     "output_type": "stream",
     "text": [
      "Overwriting src/models/train_model.py\n"
     ]
    }
   ],
   "source": [
    "%%writefile src/models/train_model.py\n",
    "import os\n",
    "import pandas as pd\n",
    "\n",
    "import gensim\n",
    "\n",
    "from metaflow import FlowSpec, Parameter, step, Flow, current\n",
    "\n",
    "class TrainModelFlow(FlowSpec):\n",
    "    topics = Parameter('topics', default=None)\n",
    "    iterations = Parameter('iterations', default=100)\n",
    "\n",
    "    @property\n",
    "    def version(self):\n",
    "        return list(current.tags)[0]\n",
    "    \n",
    "    @step\n",
    "    def start(self):\n",
    "        print(f\"Loading features from version {self.version}\")\n",
    "        fl = Flow('FeatureBuildFlow')\n",
    "        r = list(fl.runs(self.version))[0]\n",
    "        self.results = r.data.results\n",
    "        self.next(self.train_lda)\n",
    "\n",
    "    @step \n",
    "    def train_lda(self):\n",
    "        print(f\"Training LDA model version {self.version}...\")\n",
    "        dictionary = gensim.corpora.Dictionary(self.results['token_set'])\n",
    "        self.corpus_train = self.results['token_set'].apply(dictionary.doc2bow)\n",
    "        self.lda_model = gensim.models.LdaMulticore(self.corpus_train, id2word=dictionary, iterations=self.iterations, num_topics=self.topics, random_state=42)\n",
    "        self.next(self.end)\n",
    "    \n",
    "    @step\n",
    "    def end(self):\n",
    "        print(\"Done!\")\n",
    "        \n",
    "\n",
    "if __name__ == '__main__':\n",
    "    TrainModelFlow()"
   ]
  },
  {
   "cell_type": "markdown",
   "id": "b60dbbec-423f-4b08-b918-c7db727ef00d",
   "metadata": {},
   "source": [
    "### Registering parameters\n",
    "\n",
    "Now we can use metaflow `Parameter` class to register model parameters. This will be important as we compare experiments later."
   ]
  },
  {
   "cell_type": "code",
   "execution_count": 53,
   "id": "59a879b2-9016-4f8b-a7e8-948b001df68a",
   "metadata": {},
   "outputs": [
    {
     "name": "stdout",
     "output_type": "stream",
     "text": [
      "\u001b[35m\u001b[1mMetaflow 2.7.14\u001b[0m\u001b[35m\u001b[22m executing \u001b[0m\u001b[31m\u001b[1mTrainModelFlow\u001b[0m\u001b[35m\u001b[22m\u001b[0m\u001b[35m\u001b[22m for \u001b[0m\u001b[31m\u001b[1muser:jovyan\u001b[0m\u001b[35m\u001b[22m\u001b[K\u001b[0m\u001b[35m\u001b[22m\u001b[0m\n",
      "\u001b[35m\u001b[22mValidating your flow...\u001b[K\u001b[0m\u001b[35m\u001b[22m\u001b[0m\n",
      "\u001b[32m\u001b[1m    The graph looks good!\u001b[K\u001b[0m\u001b[32m\u001b[1m\u001b[0m\n",
      "\u001b[35m\u001b[22mRunning pylint...\u001b[K\u001b[0m\u001b[35m\u001b[22m\u001b[0m\n",
      "\u001b[32m\u001b[1m    Pylint is happy!\u001b[K\u001b[0m\u001b[32m\u001b[1m\u001b[0m\n",
      "\u001b[35m2022-12-01 16:12:47.002 \u001b[0m\u001b[1mWorkflow starting (run-id 1669921966934743):\u001b[0m\n",
      "\u001b[35m2022-12-01 16:12:47.029 \u001b[0m\u001b[32m[1669921966934743/start/1 (pid 3551)] \u001b[0m\u001b[1mTask is starting.\u001b[0m\n",
      "\u001b[35m2022-12-01 16:12:47.625 \u001b[0m\u001b[32m[1669921966934743/start/1 (pid 3551)] \u001b[0m\u001b[22mLoading features from version 0.0.1\u001b[0m\n",
      "\u001b[35m2022-12-01 16:12:47.875 \u001b[0m\u001b[32m[1669921966934743/start/1 (pid 3551)] \u001b[0m\u001b[1mTask finished successfully.\u001b[0m\n",
      "\u001b[35m2022-12-01 16:12:47.908 \u001b[0m\u001b[32m[1669921966934743/train_lda/2 (pid 3561)] \u001b[0m\u001b[1mTask is starting.\u001b[0m\n",
      "\u001b[35m2022-12-01 16:12:48.463 \u001b[0m\u001b[32m[1669921966934743/train_lda/2 (pid 3561)] \u001b[0m\u001b[22mTraining LDA model version 0.0.1...\u001b[0m\n",
      "\u001b[35m2022-12-01 16:12:48.958 \u001b[0m\u001b[32m[1669921966934743/train_lda/2 (pid 3561)] \u001b[0m\u001b[1mTask finished successfully.\u001b[0m\n",
      "\u001b[35m2022-12-01 16:12:48.999 \u001b[0m\u001b[32m[1669921966934743/end/3 (pid 3580)] \u001b[0m\u001b[1mTask is starting.\u001b[0m\n",
      "\u001b[35m2022-12-01 16:12:49.564 \u001b[0m\u001b[32m[1669921966934743/end/3 (pid 3580)] \u001b[0m\u001b[22mDone!\u001b[0m\n",
      "\u001b[35m2022-12-01 16:12:49.732 \u001b[0m\u001b[32m[1669921966934743/end/3 (pid 3580)] \u001b[0m\u001b[1mTask finished successfully.\u001b[0m\n",
      "\u001b[35m2022-12-01 16:12:49.740 \u001b[0m\u001b[1mDone!\u001b[0m\n",
      "\u001b[0m"
     ]
    }
   ],
   "source": [
    "!python src/models/train_model.py run --tag 0.0.1 --topics 10 --iterations 100"
   ]
  },
  {
   "cell_type": "markdown",
   "id": "37accad0-c5aa-4195-a968-e843b8dcf99f",
   "metadata": {},
   "source": [
    "### Log model performance\n",
    "\n",
    "Topic modeling performance can be calculated using Coherence Model. This will be registered in order to compare to next versions."
   ]
  },
  {
   "cell_type": "code",
   "execution_count": 54,
   "id": "bb10d2c2-330e-4f1a-b533-648889d6e505",
   "metadata": {},
   "outputs": [
    {
     "name": "stdout",
     "output_type": "stream",
     "text": [
      "Overwriting src/models/train_model.py\n"
     ]
    }
   ],
   "source": [
    "%%writefile src/models/train_model.py\n",
    "import os\n",
    "import pandas as pd\n",
    "\n",
    "import gensim\n",
    "\n",
    "from metaflow import FlowSpec, Parameter, step, Flow, current\n",
    "\n",
    "class TrainModelFlow(FlowSpec):\n",
    "    topics = Parameter('topics', default=None)\n",
    "    iterations = Parameter('iterations', default=100)\n",
    "    coherence_alg = Parameter('coherence', default='u_mass')\n",
    "\n",
    "    @property\n",
    "    def version(self):\n",
    "        return list(current.tags)[0]\n",
    "    \n",
    "    @step\n",
    "    def start(self):\n",
    "        print(f\"Loading features from version {self.version}\")\n",
    "        fl = Flow('FeatureBuildFlow')\n",
    "        r = list(fl.runs(self.version))[0]\n",
    "        self.results = r.data.results\n",
    "        self.next(self.train_lda)\n",
    "\n",
    "    @step \n",
    "    def train_lda(self):\n",
    "        print(f\"Training LDA model version {self.version}...\")\n",
    "        dictionary = gensim.corpora.Dictionary(self.results['token_set'])\n",
    "        self.corpus_train = self.results['token_set'].apply(dictionary.doc2bow)\n",
    "        self.lda_model = gensim.models.LdaMulticore(self.corpus_train, id2word=dictionary, iterations=self.iterations, num_topics=self.topics, random_state=42)\n",
    "        self.next(self.end)\n",
    "    \n",
    "    @step\n",
    "    def end(self):\n",
    "        cm = gensim.models.coherencemodel.CoherenceModel(model=self.lda_model, corpus=self.corpus_train, coherence=self.coherence_alg)\n",
    "        self.coherence = cm.get_coherence()\n",
    "        print(f\"Done! Model coherence is {self.coherence}\")\n",
    "        \n",
    "\n",
    "if __name__ == '__main__':\n",
    "    TrainModelFlow()"
   ]
  },
  {
   "cell_type": "code",
   "execution_count": 55,
   "id": "a6fe7898-0339-4a46-aec0-a57e95d06830",
   "metadata": {},
   "outputs": [
    {
     "name": "stdout",
     "output_type": "stream",
     "text": [
      "\u001b[35m\u001b[1mMetaflow 2.7.14\u001b[0m\u001b[35m\u001b[22m executing \u001b[0m\u001b[31m\u001b[1mTrainModelFlow\u001b[0m\u001b[35m\u001b[22m\u001b[0m\u001b[35m\u001b[22m for \u001b[0m\u001b[31m\u001b[1muser:jovyan\u001b[0m\u001b[35m\u001b[22m\u001b[K\u001b[0m\u001b[35m\u001b[22m\u001b[0m\n",
      "\u001b[35m\u001b[22mValidating your flow...\u001b[K\u001b[0m\u001b[35m\u001b[22m\u001b[0m\n",
      "\u001b[32m\u001b[1m    The graph looks good!\u001b[K\u001b[0m\u001b[32m\u001b[1m\u001b[0m\n",
      "\u001b[35m\u001b[22mRunning pylint...\u001b[K\u001b[0m\u001b[35m\u001b[22m\u001b[0m\n",
      "\u001b[32m\u001b[1m    Pylint is happy!\u001b[K\u001b[0m\u001b[32m\u001b[1m\u001b[0m\n",
      "\u001b[35m2022-12-01 16:19:39.424 \u001b[0m\u001b[1mWorkflow starting (run-id 1669922379345632):\u001b[0m\n",
      "\u001b[35m2022-12-01 16:19:39.455 \u001b[0m\u001b[32m[1669922379345632/start/1 (pid 3796)] \u001b[0m\u001b[1mTask is starting.\u001b[0m\n",
      "\u001b[35m2022-12-01 16:19:40.010 \u001b[0m\u001b[32m[1669922379345632/start/1 (pid 3796)] \u001b[0m\u001b[22mLoading features from version 0.0.1\u001b[0m\n",
      "\u001b[35m2022-12-01 16:19:40.246 \u001b[0m\u001b[32m[1669922379345632/start/1 (pid 3796)] \u001b[0m\u001b[1mTask finished successfully.\u001b[0m\n",
      "\u001b[35m2022-12-01 16:19:40.284 \u001b[0m\u001b[32m[1669922379345632/train_lda/2 (pid 3806)] \u001b[0m\u001b[1mTask is starting.\u001b[0m\n",
      "\u001b[35m2022-12-01 16:19:40.836 \u001b[0m\u001b[32m[1669922379345632/train_lda/2 (pid 3806)] \u001b[0m\u001b[22mTraining LDA model version 0.0.1...\u001b[0m\n",
      "\u001b[35m2022-12-01 16:19:41.339 \u001b[0m\u001b[32m[1669922379345632/train_lda/2 (pid 3806)] \u001b[0m\u001b[1mTask finished successfully.\u001b[0m\n",
      "\u001b[35m2022-12-01 16:19:41.382 \u001b[0m\u001b[32m[1669922379345632/end/3 (pid 3825)] \u001b[0m\u001b[1mTask is starting.\u001b[0m\n",
      "\u001b[35m2022-12-01 16:19:42.009 \u001b[0m\u001b[32m[1669922379345632/end/3 (pid 3825)] \u001b[0m\u001b[22mDone! Model coherence is -6.194980314046008\u001b[0m\n",
      "\u001b[35m2022-12-01 16:19:42.216 \u001b[0m\u001b[32m[1669922379345632/end/3 (pid 3825)] \u001b[0m\u001b[1mTask finished successfully.\u001b[0m\n",
      "\u001b[35m2022-12-01 16:19:42.222 \u001b[0m\u001b[1mDone!\u001b[0m\n",
      "\u001b[0m"
     ]
    }
   ],
   "source": [
    "!python src/models/train_model.py run --tag 0.0.1 --topics 10 --iterations 100"
   ]
  },
  {
   "cell_type": "code",
   "execution_count": null,
   "id": "f33bf8d4-5b68-4aa6-bd7c-5087ff6331ba",
   "metadata": {},
   "outputs": [],
   "source": []
  }
 ],
 "metadata": {
  "kernelspec": {
   "display_name": "Python 3 (ipykernel)",
   "language": "python",
   "name": "python3"
  },
  "language_info": {
   "codemirror_mode": {
    "name": "ipython",
    "version": 3
   },
   "file_extension": ".py",
   "mimetype": "text/x-python",
   "name": "python",
   "nbconvert_exporter": "python",
   "pygments_lexer": "ipython3",
   "version": "3.10.8"
  }
 },
 "nbformat": 4,
 "nbformat_minor": 5
}
